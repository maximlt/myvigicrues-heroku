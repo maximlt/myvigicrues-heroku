{
 "cells": [
  {
   "cell_type": "markdown",
   "metadata": {},
   "source": [
    "# Utilisation de l'API HUBEAU\n",
    "\n",
    "A priori, il n'y a plus de documentation sur l'extraction des données XML depuis Vigicrues (mais ça marche toujours le 01/11)\n",
    "Les infos sur Hubeau sont disponibles:\n",
    "* http://hubeau.eaufrance.fr/page/api-hydrometrie\n",
    "* https://api.gouv.fr/api/api_hubeau_hydrometrie.html\n",
    "* https://www.data.gouv.fr/fr/datasets/hauteurs-deau-et-debits-des-cours-deau-observes-en-temps-reel-aux-stations-du-reseau-vigicrues/"
   ]
  },
  {
   "cell_type": "code",
   "execution_count": null,
   "metadata": {},
   "outputs": [],
   "source": [
    "import requests\n",
    "import json\n",
    "import pandas as pd\n",
    "import geopandas as gpd\n",
    "import io\n",
    "import bokeh"
   ]
  },
  {
   "cell_type": "markdown",
   "metadata": {},
   "source": [
    "## Récupération des stations\n",
    "\n",
    "Utilisation de GET stations"
   ]
  },
  {
   "cell_type": "code",
   "execution_count": null,
   "metadata": {},
   "outputs": [],
   "source": [
    "# url = \"http://hubeau.eaufrance.fr/api/v1/hydrometrie/referentiel/stations?en_service=true&format=json&size=20\"\n",
    "fields = \"code_site,type_station\"\n",
    "# url = f\"http://hubeau.eaufrance.fr/api/v1/hydrometrie/referentiel/stations?en_service=true&format=json&size=10000&fields={fields}\"\n",
    "url = f\"http://hubeau.eaufrance.fr/api/v1/hydrometrie/referentiel/stations?en_service=true&format=geojson&size=10000\"\n",
    "r = requests.get(url)"
   ]
  },
  {
   "cell_type": "code",
   "execution_count": null,
   "metadata": {
    "scrolled": true
   },
   "outputs": [],
   "source": [
    "gdf = gpd.read_file(io.BytesIO(r.content), driver=\"GeoJSON\")"
   ]
  },
  {
   "cell_type": "code",
   "execution_count": null,
   "metadata": {},
   "outputs": [],
   "source": [
    "gdf_deb = gdf.query(\"type_station == 'DEB'\").reset_index()"
   ]
  },
  {
   "cell_type": "code",
   "execution_count": null,
   "metadata": {},
   "outputs": [],
   "source": [
    "def requete_temps_reel_station(code_entite, size, grandeur_hydro=\"Q\"):\n",
    "    obs_tr_csv_url = \"http://hubeau.eaufrance.fr/api/v1/hydrometrie/observations_tr.csv\"\n",
    "    obs_tr_csv_params = {\n",
    "        \"code_entite\": code_entite,\n",
    "        \"grandeur_hydro\": grandeur_hydro,\n",
    "        \"size\": size,\n",
    "        \"fields\": [\"date_obs\", \"resultat_obs\"],\n",
    "    }\n",
    "    try:\n",
    "        obs_tr_response = requests.get(\n",
    "            obs_tr_csv_url,\n",
    "            obs_tr_csv_params,\n",
    "            timeout=10,\n",
    "        )\n",
    "    except requests.exceptions.Timeout:\n",
    "        return\n",
    "    \n",
    "    if not obs_tr_response.ok:\n",
    "        return\n",
    "\n",
    "    response_str = obs_tr_response.text\n",
    "\n",
    "    if not response_str:\n",
    "        return\n",
    "\n",
    "    return (code_entite, response_str)"
   ]
  },
  {
   "cell_type": "code",
   "execution_count": null,
   "metadata": {},
   "outputs": [],
   "source": [
    "def recuperer_data_temps_reel_station(code_entite, size=10_000, grandeur_hydro=\"Q\"):\n",
    "\n",
    "    res_requete = requete_temps_reel_station(code_entite, size, grandeur_hydro)\n",
    "    if res_requete is None:\n",
    "        print(\"Pas de données à transformer en DataFrame.\")\n",
    "        return\n",
    "\n",
    "    _, response_str = res_requete\n",
    "    \n",
    "    df_tr = pd.read_csv(io.StringIO(response_str), sep=\";\")\n",
    "\n",
    "    # Les débits sont certainement stockés sous la forme d'integers dans\n",
    "    # la base de données pour réduire la taille. Il faut diviser par 1000\n",
    "    # pour obtenir un débit en m3/s.\n",
    "    df_tr[\"resultat_obs\"] = df_tr[\"resultat_obs\"] / 1000\n",
    "    df_tr[\"date_obs\"] = pd.to_datetime(df_tr[\"date_obs\"], utc=True)\n",
    "    df_tr = df_tr.set_index(\"date_obs\", drop=True)\n",
    "    # La première valeur retournée par la requête est la dernière observation ;)\n",
    "    df_tr = df_tr.sort_index()\n",
    "    # Conversion pour la métropole avec la région Europe/Paris (attention aux stations dans les DomTom!)\n",
    "    df_tr.index = df_tr.index.tz_convert(\"Europe/Paris\")\n",
    "    df_tr.index = df_tr.index.rename(\"Temps\")\n",
    "    \n",
    "    column_name = \"Débit [m³/s]\" if grandeur_hydro == \"Q\" else \"Hauteur [m]\"\n",
    "    df_tr = df_tr.rename(columns={\"resultat_obs\": column_name})\n",
    "              \n",
    "    return df_tr"
   ]
  },
  {
   "cell_type": "markdown",
   "metadata": {},
   "source": [
    "## Threads "
   ]
  },
  {
   "cell_type": "code",
   "execution_count": null,
   "metadata": {},
   "outputs": [],
   "source": [
    "import concurrent.futures"
   ]
  },
  {
   "cell_type": "code",
   "execution_count": null,
   "metadata": {},
   "outputs": [],
   "source": [
    "codes = list(gdf_deb[\"code_station\"])"
   ]
  },
  {
   "cell_type": "code",
   "execution_count": null,
   "metadata": {},
   "outputs": [],
   "source": [
    "with concurrent.futures.ThreadPoolExecutor(max_workers=None) as executor:\n",
    "    station_responses = executor.map(requete_temps_reel_station, codes, [1]*len(codes))\n",
    "station_responses = list(station_responses)"
   ]
  },
  {
   "cell_type": "code",
   "execution_count": null,
   "metadata": {},
   "outputs": [],
   "source": [
    "stations_with_data = [\n",
    "    info[0] for info in station_responses if info is not None \n",
    "]"
   ]
  },
  {
   "cell_type": "markdown",
   "metadata": {},
   "source": [
    "## Que les stations avec des données"
   ]
  },
  {
   "cell_type": "code",
   "execution_count": null,
   "metadata": {
    "scrolled": true
   },
   "outputs": [],
   "source": [
    "gdf_deb_red = gdf_deb.query(\"code_station in @stations_with_data\").reset_index()"
   ]
  },
  {
   "cell_type": "markdown",
   "metadata": {},
   "source": [
    "## Dashboard "
   ]
  },
  {
   "cell_type": "code",
   "execution_count": null,
   "metadata": {},
   "outputs": [],
   "source": [
    "import panel as pn\n",
    "import holoviews as hv\n",
    "import datashader.geo\n",
    "import hvplot.pandas"
   ]
  },
  {
   "cell_type": "code",
   "execution_count": null,
   "metadata": {},
   "outputs": [],
   "source": [
    "osm = hv.element.tiles.OSM()"
   ]
  },
  {
   "cell_type": "code",
   "execution_count": null,
   "metadata": {},
   "outputs": [],
   "source": [
    "x, y = datashader.geo.lnglat_to_meters(gdf_deb_red.longitude_station, gdf_deb_red.latitude_station)\n",
    "gdf_deb_projected = pd.DataFrame(gdf_deb_red.join([pd.DataFrame({'easting': x}), pd.DataFrame({'northing': y})]))"
   ]
  },
  {
   "cell_type": "code",
   "execution_count": null,
   "metadata": {},
   "outputs": [],
   "source": [
    "key_dimensions   = [\"easting\", \"northing\"]\n",
    "value_dimensions = [\"libelle_station\", \"libelle_cours_eau\", \"libelle_commune\"]\n",
    "gdf_deb_projected_table = hv.Table(gdf_deb_projected, key_dimensions, value_dimensions)"
   ]
  },
  {
   "cell_type": "code",
   "execution_count": null,
   "metadata": {},
   "outputs": [],
   "source": [
    "hover_map = bokeh.models.HoverTool(\n",
    "    tooltips=[\n",
    "#         ( 'date',   '@date{%F}'            ),\n",
    "#         ( 'close',  '$@{adj close}{%0.2f}' ), # use @{ } for field names with spaces\n",
    "#         ( 'volume', '@volume{0.00 a}'      ),\n",
    "        (\"Station\", \"@libelle_station\"),\n",
    "        (\"Cours d'eau\", \"@libelle_cours_eau\"),\n",
    "    ],\n",
    "\n",
    "#     formatters={\n",
    "#         'date'      : 'datetime', # use 'datetime' formatter for 'date' field\n",
    "#     },\n",
    "\n",
    "    # display a tooltip whenever the cursor is vertically in line with a glyph\n",
    "#     mode='vline'\n",
    ")\n",
    "\n",
    "gdf_deb_projected_points = (\n",
    "    gdf_deb_projected_table.to.points(\n",
    "        [\"easting\", \"northing\"],\n",
    "        [\"libelle_station\", \"libelle_cours_eau\"]\n",
    ")\n",
    "#     .options(tools=[\"hover\"], width=800)\n",
    "    .options(\n",
    "        tools=[hover_map],\n",
    "        marker=\"diamond\",\n",
    "        size=10,\n",
    "    )\n",
    ")\n",
    "stations_q = gdf_deb_projected_points"
   ]
  },
  {
   "cell_type": "code",
   "execution_count": null,
   "metadata": {},
   "outputs": [],
   "source": [
    "selection_stream = hv.streams.Selection1D(source=stations_q)"
   ]
  },
  {
   "cell_type": "code",
   "execution_count": null,
   "metadata": {},
   "outputs": [],
   "source": [
    "def labelled_callback(index):\n",
    "    if len(index) == 0:\n",
    "        return hv.Text(x=0,y=0, text=\"\")\n",
    "    first_index = index[0] # Pick only the first one if multiple are selected\n",
    "    row = gdf_deb_projected.iloc[first_index]\n",
    "    return hv.Text(x=row[\"easting\"] ,y=row[\"northing\"] ,text=row[\"code_station\"]).opts(color='white')\n",
    "\n",
    "labeller = hv.DynamicMap(labelled_callback, streams=[selection_stream])"
   ]
  },
  {
   "cell_type": "code",
   "execution_count": null,
   "metadata": {
    "scrolled": true
   },
   "outputs": [],
   "source": [
    "# station_map = (esri * stations_q.options(tools=['tap']) * labeller).options(hv.opts.Scatter(tools=['hover']))\n",
    "station_map = (\n",
    "    osm\n",
    "    * stations_q.options(\n",
    "        tools=[\"tap\", hover_map],\n",
    "        nonselection_alpha=0.4,\n",
    "        selection_color=\"red\",\n",
    "        frame_height=600,\n",
    "        aspect=1\n",
    "    )\n",
    ")"
   ]
  },
  {
   "cell_type": "code",
   "execution_count": null,
   "metadata": {},
   "outputs": [],
   "source": [
    "empty_plot = hv.Curve(kdims=\"Temps\", vdims=\"Débit [m³/s]\", data=[])\n",
    "error_plot = hv.Curve(kdims=\"Temps\", vdims=\"Débit [m³/s]\", data=[]).options(title=\"Erreur\")\n",
    "\n",
    "hover_line = bokeh.models.HoverTool(\n",
    "    tooltips=[\n",
    "        (\"Temps\", \"@Temps{%F %T}\"),\n",
    "        (\"Débit [m³/s]\", \"@{Débit [m³/s]}{0.00}\"),\n",
    "    ],\n",
    "\n",
    "    formatters={\n",
    "        \"Temps\": 'datetime', # use 'datetime' formatter for 'date' field\n",
    "    },\n",
    "\n",
    "#     display a tooltip whenever the cursor is vertically in line with a glyph\n",
    "    mode='vline'\n",
    ")\n",
    "\n",
    "def station_tempplot_callback(index):\n",
    "    if len(index) == 0:\n",
    "        return empty_plot.options(title=\"Pas de données à afficher\")\n",
    "    first_index = index[0] # Pick only the first one if multiple are selected\n",
    "    row = gdf_deb_projected.iloc[first_index]\n",
    "    code_station = row[\"code_station\"]\n",
    "    libelle_site = row[\"libelle_site\"]\n",
    "    \n",
    "    df_q = recuperer_data_temps_reel_station(code_station, grandeur_hydro=\"Q\")\n",
    "    if df_q is None:\n",
    "        # TODO: Remplacer les return None dans recup_temps_reel_station par\n",
    "        # des erreurs qui seraient attrapées ici, pour que ça soit plus clair.\n",
    "        return error_plot\n",
    "    \n",
    "    plot =  df_q.hvplot.line(\n",
    "    ).options(tools=[hover_line], title=f\"{libelle_site} ({code_station})\", padding=0.1, alpha=0.7)\n",
    "    return plot\n",
    "\n",
    "station_tempplot = hv.DynamicMap(station_tempplot_callback, streams=[selection_stream]).options(\n",
    "    framewise=True,\n",
    "    frame_height=300,\n",
    "    frame_width=600\n",
    ")"
   ]
  },
  {
   "cell_type": "code",
   "execution_count": null,
   "metadata": {},
   "outputs": [],
   "source": [
    "def station_table_callback(index):\n",
    "    if len(index) == 0:\n",
    "        return hv.Table(data=[])\n",
    "    first_index = index[0] # Pick only the first one if multiple are selected\n",
    "    row = gdf_deb_projected.iloc[first_index]\n",
    "    code_station = row[\"code_station\"]\n",
    "    \n",
    "    df_q = recuperer_data_temps_reel_station(code_station, grandeur_hydro=\"Q\")\n",
    "\n",
    "    return df_q.hvplot.table().options(height=300)\n",
    "\n",
    "station_table = hv.DynamicMap(station_table_callback, streams=[selection_stream]).options(\n",
    ")"
   ]
  },
  {
   "cell_type": "code",
   "execution_count": null,
   "metadata": {},
   "outputs": [],
   "source": [
    "# Dashboard\n",
    "app = pn.Column(\n",
    "    \"# My vigicrues\",\n",
    "    \"Sélectionner une station débitmétrique pour voir le débit mesuré et disponible à partir de l'API Hubeau.\",\n",
    "    \"Les données sont téléchargées à chaque clic, il faut un peu patienter avant de les voir s'affichier.\",\n",
    "    pn.Row(station_map, pn.Tabs((\"Graphique\", station_tempplot), (\"Données\", station_table), closable=True)),\n",
    "    width_policy=\"max\"\n",
    ")"
   ]
  },
  {
   "cell_type": "code",
   "execution_count": null,
   "metadata": {},
   "outputs": [],
   "source": [
    "app.servable()"
   ]
  }
 ],
 "metadata": {
  "kernelspec": {
   "display_name": "Python 3",
   "language": "python",
   "name": "python3"
  },
  "language_info": {
   "codemirror_mode": {
    "name": "ipython",
    "version": 3
   },
   "file_extension": ".py",
   "mimetype": "text/x-python",
   "name": "python",
   "nbconvert_exporter": "python",
   "pygments_lexer": "ipython3",
   "version": "3.7.3"
  }
 },
 "nbformat": 4,
 "nbformat_minor": 2
}
